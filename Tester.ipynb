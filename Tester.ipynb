{
 "cells": [
  {
   "cell_type": "code",
   "execution_count": 1,
   "id": "93099447-bc7d-42b3-9107-9c45ce47c394",
   "metadata": {},
   "outputs": [
    {
     "name": "stdout",
     "output_type": "stream",
     "text": [
      "1\n",
      "11\n",
      "15\n",
      "5\n",
      "120\n",
      "False\n",
      "\n",
      "120\n",
      "True\n",
      "\n"
     ]
    }
   ],
   "source": [
    "import sys\n",
    "import grpc\n",
    "import numstore_pb2, numstore_pb2_grpc\n",
    "\n",
    "port = \"5440\"\n",
    "addr = f\"127.0.0.1:{port}\"\n",
    "channel = grpc.insecure_channel(addr)\n",
    "stub = numstore_pb2_grpc.NumStoreStub(channel)\n",
    "\n",
    "# TEST SetNum\n",
    "resp = stub.SetNum(numstore_pb2.SetNumRequest(key=\"A\", value=1))\n",
    "print(resp.total) # should be 1\n",
    "resp = stub.SetNum(numstore_pb2.SetNumRequest(key=\"B\", value=10))\n",
    "print(resp.total) # should be 11\n",
    "resp = stub.SetNum(numstore_pb2.SetNumRequest(key=\"A\", value=5))\n",
    "print(resp.total) # should be 15\n",
    "resp = stub.SetNum(numstore_pb2.SetNumRequest(key=\"B\", value=0))\n",
    "print(resp.total) # should be 5\n",
    "\n",
    "# TEST Fact\n",
    "resp = stub.Fact(numstore_pb2.FactRequest(key=\"A\"))\n",
    "print(resp.value) # should be 120\n",
    "print(resp.hit)\n",
    "print(resp.error)\n",
    "\n",
    "# TEST Fact:LRU\n",
    "resp = stub.Fact(numstore_pb2.FactRequest(key=\"A\"))\n",
    "print(resp.value) # should be 120\n",
    "print(resp.hit)\n",
    "print(resp.error)"
   ]
  },
  {
   "cell_type": "code",
   "execution_count": 2,
   "id": "161de6bb-3dd0-43cd-aa9d-c1bae65fbc40",
   "metadata": {},
   "outputs": [
    {
     "name": "stdout",
     "output_type": "stream",
     "text": [
      "['DESCRIPTOR', 'FactRequest', 'FactResponse', 'SetNumRequest', 'SetNumResponse', '_FACTREQUEST', '_FACTRESPONSE', '_NUMSTORE', '_SETNUMREQUEST', '_SETNUMRESPONSE', '__builtins__', '__cached__', '__doc__', '__file__', '__loader__', '__name__', '__package__', '__spec__', '_builder', '_descriptor', '_descriptor_pool', '_sym_db', '_symbol_database']\n",
      "['NumStore', 'NumStoreServicer', 'NumStoreStub', '__builtins__', '__cached__', '__doc__', '__file__', '__loader__', '__name__', '__package__', '__spec__', 'add_NumStoreServicer_to_server', 'grpc', 'numstore__pb2']\n"
     ]
    }
   ],
   "source": [
    "print(dir(numstore_pb2))\n",
    "print(dir(numstore_pb2_grpc))"
   ]
  },
  {
   "cell_type": "code",
   "execution_count": null,
   "id": "8110b187-db94-4748-8daa-9ea72c6e6402",
   "metadata": {},
   "outputs": [],
   "source": []
  }
 ],
 "metadata": {
  "kernelspec": {
   "display_name": "Python 3 (ipykernel)",
   "language": "python",
   "name": "python3"
  },
  "language_info": {
   "codemirror_mode": {
    "name": "ipython",
    "version": 3
   },
   "file_extension": ".py",
   "mimetype": "text/x-python",
   "name": "python",
   "nbconvert_exporter": "python",
   "pygments_lexer": "ipython3",
   "version": "3.10.6"
  }
 },
 "nbformat": 4,
 "nbformat_minor": 5
}
